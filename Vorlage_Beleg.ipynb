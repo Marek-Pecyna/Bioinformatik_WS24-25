{
 "cells": [
  {
   "cell_type": "markdown",
   "id": "59409dda-ebad-4090-a48a-eb9ad9ba70fc",
   "metadata": {},
   "source": [
    "# Beleg Angewandte Bioinformatik WS 24/25\n",
    "\n",
    "**Teil Python (Dozent: Dr. Pecyna)**\n",
    "\n",
    "\n",
    "- Name:\n",
    "\n",
    "- Matrikelnummer:"
   ]
  },
  {
   "cell_type": "markdown",
   "id": "d554395e-0d44-415b-805d-2c4498bf318a",
   "metadata": {},
   "source": [
    "## Hinweise\n",
    "1. Schreiben Sie Ihren Code in einer Zelle\n",
    "2. Führen Sie diese Code-Zelle aus (STRG + ENTER oder SHIFT + ENTER).\n",
    "\n",
    "<div class=\"alert alert-block alert-info\">\n",
    "<b>Ausnahme:</b> Die zwei Funktionen, die das turtle-Modul benutzen, sind gegenwärtig noch nicht in der HSZG-Installation des Jupyter-Notebooks ausführbar. Testen Sie Ihren Code direkt auf Ihrem Rechner und fügen Sie den Screenshot ihrer erzeugten Abbildungen in eine Markdown-Zelle ein (*drag and drop*).\n",
    "</div>\n",
    "   \n",
    "1. Nutzen Sie in Kommentare (**#** oder **\"\"\"**) in den Code-Zellen.\n",
    "1. Zeigen Sie in einer weiteren Code-Zelle die Anwendung Ihrer programmierten Funktion.\n",
    "1. Dokumentieren Sie Ihre Ergebnisse in Markdown-Zellen (Antwortsätze bzw. Erklärungen zu ihren Ergebnissen und Ihren Skripten)!\n",
    "1. Wenn Sie Ihren Beleg fertig geschrieben haben, starten Sie den Kernel neu und führen alle Zellen von oben nach unten aus (**Kernel -> Restart Kernel and Run all cells**)\n",
    "1. Wenn jetzt alles glatt läuft, können Sie mir diese Notebook-Datei (Endung *.ipynb) schicken:\n",
    "   marek.pecyna@hszg.de\n",
    "1. Um das Biopython-Paket für die Hausaufgaben zu nutzen, müssen Sie es in Ihrem Notebook installieren. Greifen Sie dazu mithilfe des *magic command* `!` auf die Betriebssystem-Konsole zu. Schreiben Sie dazu in eine Code-Zelle und führen diese aus:\n",
    "   ~~~shell\n",
    "   !pip install biopython\n",
    "   ~~~\n",
    "\n",
    "**Falls es bei der Ausführung der Code-Zellen zu Problemen kommt, bzw. Sie eine andere Ausgabe erwarten, sollten Sie zuerst den Kernel neu starten:**\n",
    "   > **Kernel -> Restart Kernel** bzw.\n",
    "   > **Kernel -> Restart Kernel and Clear Outputs of all cells...**\n",
    "   - Jetzt Code-Zelle erneut ausführen\n",
    "   - Die Reihenfolge der Ausführung der Zellen macht einen Unterschied (häufige Fehlerquelle in Jupyter-Notebooks)\n",
    "\n"
   ]
  },
  {
   "cell_type": "markdown",
   "id": "ee22a79f-9a30-42d2-a9f0-954a7b13f908",
   "metadata": {},
   "source": [
    "## Hausaufgaben 01.11.2023"
   ]
  },
  {
   "cell_type": "markdown",
   "id": "cb0c0168-248f-4032-9241-44fcffe4a345",
   "metadata": {},
   "source": [
    "### 1. Regelmäßiges Fünfeck\n",
    "Schreiben Sie eine Funktion: Mithilfe des turtle-Moduls soll die Schildkröte ein regelmäßiges Fünfeck zeichnen."
   ]
  },
  {
   "cell_type": "markdown",
   "id": "3e115d4e-bdb7-4aaa-95fa-a2915445d68b",
   "metadata": {},
   "source": [
    "Tipps für die Programmierung der Schildkröte:\n",
    "\n",
    "https://www.geeksforgeeks.org/turtle-programming-python\n",
    "\n",
    "https://docs.python.org/3.10/library/turtle.html\n"
   ]
  },
  {
   "cell_type": "code",
   "execution_count": null,
   "id": "1baad862-7c03-4c37-8867-7e8ddc5012fc",
   "metadata": {},
   "outputs": [],
   "source": [
    "import turtle\n",
    "\n",
    "def fuenfeck():\n",
    "    # Ihren Code hier einfügen\n",
    "    return"
   ]
  },
  {
   "cell_type": "code",
   "execution_count": null,
   "id": "b4482154-0dd6-42c1-ac5b-2f3d0330961c",
   "metadata": {},
   "outputs": [],
   "source": [
    "# Anwendung der Funktion zeigen\n",
    "# fuenfeck()"
   ]
  },
  {
   "cell_type": "markdown",
   "id": "0f77cb55-6894-47cc-a911-10e9d50ad397",
   "metadata": {},
   "source": [
    "*Hier Screenshot einfügen, da die Ausgabe des turtle-Moduls hier nicht funktioniert*"
   ]
  },
  {
   "attachments": {
    "1c7531ad-7d0b-4484-81cd-417016923ac1.png": {
     "image/png": "[encoded data removed]"
    },
    "3f1ce48a-928f-420d-aa38-f399621fcbfc.png": {
     "image/png": "[encoded data removed]"
    }
   },
   "cell_type": "markdown",
   "id": "19a36e5f-ebe1-4a24-a27f-6ae31bed0e63",
   "metadata": {},
   "source": [
    "### 2.\tFünfeck-Blume\n",
    "Ändern Sie ihr kleines Skript so, dass mehrere Fünfecke, um einen gemeinsamen Drehpunkt gezeichnet werden, (Farbe, Anzahl der Fünfecke können Sie selbst wählen). So könnte es dann zum Beispiel aussehen:\n",
    "\n",
    "![grafik.png](attachment:1c7531ad-7d0b-4484-81cd-417016923ac1.png)\n",
    "\n",
    "![grafik.png](attachment:3f1ce48a-928f-420d-aa38-f399621fcbfc.png)\n",
    "\n",
    "\n",
    "\n",
    "\n",
    "\n"
   ]
  },
  {
   "cell_type": "code",
   "execution_count": null,
   "id": "12c11daf-b5f6-4d98-8aed-635a0c44e336",
   "metadata": {},
   "outputs": [],
   "source": [
    "import turtle\n",
    "\n",
    "def fuenfeck_blume():\n",
    "    # Ihren Code hier einfügen\n",
    "    return"
   ]
  },
  {
   "cell_type": "code",
   "execution_count": null,
   "id": "bb0a1054-d565-449e-bac3-46c9464b3d60",
   "metadata": {},
   "outputs": [],
   "source": [
    "# Anwendung der Funktion zeigen\n",
    "# fuenfeck_blume()"
   ]
  },
  {
   "cell_type": "markdown",
   "id": "62bdd08d-f82f-4bc2-aeb2-862862c573d6",
   "metadata": {},
   "source": [
    "*Hier Screenshot einfügen, da die Ausgabe des turtle-Moduls hier nicht funktioniert*"
   ]
  },
  {
   "cell_type": "markdown",
   "id": "a1fc0e62-09bf-48df-9f2e-3b9aff2b4e78",
   "metadata": {},
   "source": [
    "### 3.\tDNA-Sequenz analysieren\n",
    "Gegeben ist eine Beispiel-DNA-Sequenz:"
   ]
  },
  {
   "cell_type": "code",
   "execution_count": null,
   "id": "f2f7ed26-52aa-4924-ba1f-1ecd2b9eef8c",
   "metadata": {},
   "outputs": [],
   "source": [
    "dna = 'gcatgacgttattacgactctgtcagaattccgccgcggtgcgactgaggcgtggaattcgtctgctggg'"
   ]
  },
  {
   "cell_type": "markdown",
   "id": "b09e7fc1-4f91-4673-bcc1-f8bdbbbd9670",
   "metadata": {},
   "source": [
    "Schreiben Sie für diese (oder eine andere) DNA-Sequenz jeweils kleine Python-Funktionen, die folgende Fragen beantworten:\n",
    "\n",
    "(Achten Sie darauf, dass Gross- und Kleinschreibung von Sequenzen die gleichen Ergebnisse erzeugen.)"
   ]
  },
  {
   "cell_type": "markdown",
   "id": "6a573008-4229-4bcc-9a38-1dc2a8d9e474",
   "metadata": {},
   "source": [
    "#### a)\tEnthält die Sequenz außer den Standardnukleotiden noch andere Zeichen?"
   ]
  },
  {
   "cell_type": "code",
   "execution_count": null,
   "id": "acf44f1a-ffac-4069-aade-28fa7d7de07e",
   "metadata": {},
   "outputs": [],
   "source": [
    "def is_standard_nt(dna):\n",
    "    \"\"\"Returns True if only standard nucleotides (A, T, G, C) are present\n",
    "    otherwise returns False\"\"\"\n",
    "    \n",
    "    # Ihren Code hier einfügen\n",
    "    return"
   ]
  },
  {
   "cell_type": "code",
   "execution_count": null,
   "id": "9003df07-4f5d-458e-8599-bf3a6f31ffa9",
   "metadata": {},
   "outputs": [],
   "source": [
    "# Anwendung der Funktion zeigen\n",
    "print(is_standard_nt(dna))"
   ]
  },
  {
   "cell_type": "markdown",
   "id": "6768feaa-74e4-493d-bbe8-48a8fd4eff38",
   "metadata": {},
   "source": [
    "*Antwortsatz: Die gegebene DNA-Sequenz enthält nur Standardnukleotide.*"
   ]
  },
  {
   "cell_type": "markdown",
   "id": "bf608893-5f94-4031-ac11-a99797c08091",
   "metadata": {},
   "source": [
    "#### b)\tWie hoch ist der GC-Gehalt der Sequenz?\n",
    "(Runden Sie auf eine Nachkommastelle)"
   ]
  },
  {
   "cell_type": "code",
   "execution_count": null,
   "id": "afac383c-da12-49df-990a-36b74635bc32",
   "metadata": {},
   "outputs": [],
   "source": [
    "def gc_content(dna):\n",
    "    \"\"\"Calculates GC content\"\"\"\n",
    "    gc = ... # Ihren Code hier einfügen\n",
    "    return gc"
   ]
  },
  {
   "cell_type": "code",
   "execution_count": null,
   "id": "c01bc810-ce40-45b6-ab37-5f23be670436",
   "metadata": {},
   "outputs": [],
   "source": [
    "# Anwendung der Funktion\n",
    "print(gc_content(dna))"
   ]
  },
  {
   "cell_type": "markdown",
   "id": "e6326147-93d6-466e-9ba0-709d33f4453e",
   "metadata": {},
   "source": [
    "*Antwortsatz: Der GC-Gehalt der DNA-Sequenz beträgt ...%.*"
   ]
  },
  {
   "cell_type": "markdown",
   "id": "da709d0e-75a4-4efa-afe7-3dd52b470d61",
   "metadata": {},
   "source": [
    "####  c)\tWie berechnet man das Komplement der DNA-Sequenz?\n",
    "\n",
    "(Eine Möglichkeit ist die Nutzung von Stringmethoden: `dna.upper()`, `dna.replace()`d und `dna.replace()`)"
   ]
  },
  {
   "cell_type": "code",
   "execution_count": null,
   "id": "c3c1dd26-cd23-4f70-a983-a5775c88a5ec",
   "metadata": {},
   "outputs": [],
   "source": [
    "def complement(dna):\n",
    "    ..."
   ]
  },
  {
   "cell_type": "code",
   "execution_count": null,
   "id": "cc67cde6-0ae9-42ab-a6e6-809352d57241",
   "metadata": {},
   "outputs": [],
   "source": [
    "# Anwendung der Funktion"
   ]
  },
  {
   "cell_type": "markdown",
   "id": "b62beca6-ae79-4ab4-ab88-da40a016ec64",
   "metadata": {},
   "source": [
    "*Antwortsatz:*"
   ]
  },
  {
   "cell_type": "markdown",
   "id": "49547e57-0fee-4000-a406-58d6b84c91f2",
   "metadata": {},
   "source": [
    "#### d)\tWie berechnet man das Revers-Komplement der DNA-Sequenz?"
   ]
  },
  {
   "cell_type": "code",
   "execution_count": null,
   "id": "63bad343-5ee8-4275-954f-a57697d6dc93",
   "metadata": {},
   "outputs": [],
   "source": [
    "def reverse_complement(dna):\n",
    "    ..."
   ]
  },
  {
   "cell_type": "markdown",
   "id": "774e754d-068d-41cf-af8e-5eaa581bdeec",
   "metadata": {},
   "source": [
    "*Antwortsatz:*"
   ]
  },
  {
   "cell_type": "markdown",
   "id": "dfb6b6da-6eb9-496e-b43c-3f5ea4e18a1d",
   "metadata": {},
   "source": [
    "#### e)    Wie oft kommt eine bestimmte Teil-Sequenz in der DNA-Sequenz vor?\n",
    "\n",
    "(z.B. eine EcoRI-Schnittstelle, G‘AATTC)?\n",
    "(Hinweis: `dna.find()`)"
   ]
  },
  {
   "cell_type": "code",
   "execution_count": null,
   "id": "a51a3cb9-1e1e-4f06-8957-3ca8bf8b6d3b",
   "metadata": {},
   "outputs": [],
   "source": [
    "def find_pattern(dna, pattern):\n",
    "    count = 0\n",
    "    ... # Hier Code einfügen\n",
    "    return count"
   ]
  },
  {
   "cell_type": "code",
   "execution_count": null,
   "id": "94412e12-d11e-4f9a-9fb2-1cbf5cc25733",
   "metadata": {},
   "outputs": [],
   "source": [
    "# Anwendung der Funktion"
   ]
  },
  {
   "cell_type": "markdown",
   "id": "7142c6fc-90c6-4528-91a9-c0ffb81de162",
   "metadata": {},
   "source": [
    "*Antwortsatz: In der DNA-Sequenz findet sich ...-mal das Muster \"GAATTC\".*"
   ]
  },
  {
   "cell_type": "markdown",
   "id": "296f90ad-d229-4ddd-bb86-ebe306e0055b",
   "metadata": {},
   "source": [
    "## Hausaufgaben 15.11.2023"
   ]
  },
  {
   "cell_type": "markdown",
   "id": "e0989471-f00b-40ce-b605-65bce4218671",
   "metadata": {},
   "source": [
    "### 1. Intronerkennung\n",
    "\n",
    "Schreiben Sie eine Python-Funktion `find_intron`, die spliceosomale Introns in einer DNA-Sequenz erkennt. Die Funktion soll die Anfangs- und Endposition sowie die Intronsequenz in einer Liste speichern und zurückgeben.\n",
    "\n",
    "~~~python\n",
    "def find_intron(dna_sequence,\n",
    "                minimal_length=100):\n",
    "    introns = []\n",
    "    # hier ergänzt ihr…\n",
    "    return introns\n",
    "~~~\n",
    "\n",
    "Nutzt zum Testen die genomische Glyceraldehyde-3-phosphate-Dehydrogenase-Sequenz (GAP-DH) von *Yarrowia lipolytica*. Die Datei `Glyceraldehyde-3-phosphate_dehydrogenase_YP_genomisch.fas` befindet sich im Übungsordner.\n",
    "\n",
    "Anwendung der Funktion:\n",
    "~~~python\n",
    "dna = ... # Variable enthält die GAP-DH-Sequenz\n",
    "ergebnis = find_intron(dna)\n",
    "~~~\n",
    "\n",
    "Als Ergebnis wird eine Liste zurückgegeben, z.B. so könnte diese dann aussehen:\n",
    "\n",
    "```python\n",
    "print(ergebnis)\n",
    "\n",
    "[[54,250,‘GTAGCCGTAGTGGAG‘], [350,472,‘GTGTGCGATGCTGAG‘]]\n",
    "```\n",
    "\n",
    "Folgende Teilaufgaben:"
   ]
  },
  {
   "cell_type": "markdown",
   "id": "4be72ede-693d-4d12-9b7d-2ed4107fa3fd",
   "metadata": {},
   "source": [
    "#### a) Folgt nur der GT-AG-Regel und Mindestlänge 100 nt"
   ]
  },
  {
   "cell_type": "code",
   "execution_count": null,
   "id": "8c3c6730-4379-4984-9f70-3f1e1027f482",
   "metadata": {},
   "outputs": [],
   "source": [
    "# Euer Code"
   ]
  },
  {
   "cell_type": "code",
   "execution_count": null,
   "id": "c2d92c32-17c7-45bb-84ac-0307d936c642",
   "metadata": {},
   "outputs": [],
   "source": [
    "# Anwendung der Funktion"
   ]
  },
  {
   "cell_type": "markdown",
   "id": "7adb9a9f-7485-4ebe-abf0-ee4bbb39c15a",
   "metadata": {},
   "source": [
    "*Antwortsatz: In der genomischen Sequenz der GAP-DH von *Yarrowia lipolytica* wurden ... mögliche Intron-Kandidaten gefunden.*"
   ]
  },
  {
   "cell_type": "markdown",
   "id": "3e4ad375-efae-4807-81e3-de18b1e902b1",
   "metadata": {},
   "source": [
    "#### b)\tWie a) aber mit dem branching point 'RA'"
   ]
  },
  {
   "cell_type": "code",
   "execution_count": null,
   "id": "92a3a051-60f0-4a90-8249-eef71412ba75",
   "metadata": {},
   "outputs": [],
   "source": [
    "# Euer Code"
   ]
  },
  {
   "cell_type": "code",
   "execution_count": null,
   "id": "1764c661-f43d-490d-abe1-e45d1462d862",
   "metadata": {},
   "outputs": [],
   "source": [
    "# Anwendung der Funktion"
   ]
  },
  {
   "cell_type": "markdown",
   "id": "324cd6b2-d773-4263-a8f9-96cd554fa215",
   "metadata": {},
   "source": [
    "*Antwortsatz: In der genomischen Sequenz der GAP-DH von *Yarrowia lipolytica* wurden ... mögliche Intron-Kandidaten gefunden.*"
   ]
  },
  {
   "cell_type": "markdown",
   "id": "ae64e571-7274-4ddb-b423-36af10d23638",
   "metadata": {},
   "source": [
    "#### c)\tWie b) aber mit der pyrimidin-reichen Region am 3'-Ende"
   ]
  },
  {
   "cell_type": "code",
   "execution_count": null,
   "id": "00d9f290-cf72-4ff6-9194-378c6b7bce8e",
   "metadata": {},
   "outputs": [],
   "source": [
    "# Euer Code"
   ]
  },
  {
   "cell_type": "code",
   "execution_count": null,
   "id": "e1ba0579-77f4-415d-b67b-33ab0e84a11f",
   "metadata": {},
   "outputs": [],
   "source": [
    "# Anwendung der Funktion"
   ]
  },
  {
   "cell_type": "markdown",
   "id": "09ca4da0-8cda-4781-a2e8-3831e49c503d",
   "metadata": {},
   "source": [
    "*Antwortsatz: In der genomischen Sequenz der GAP-DH von *Yarrowia lipolytica* wurden ... mögliche Intron-Kandidaten gefunden.*"
   ]
  },
  {
   "attachments": {
    "2cd349c9-6c1d-4d50-9638-27c523dffa3b.png": {
     "image/png": "[encoded data removed]"
    }
   },
   "cell_type": "markdown",
   "id": "662bc357-6de9-4a57-9c18-dff0c781c19d",
   "metadata": {
    "jupyter": {
     "source_hidden": true
    }
   },
   "source": [
    "**Hinweise zur Lösung der Aufgabe 1**\n",
    "\n",
    "Aufgabe 1 könnt ihr lösen mit:\n",
    "- Regulären Ausdrücken (siehe Vorlesung) und/oder\n",
    "- while-Schleifen und if-Abfragen\n",
    "\n",
    "\n",
    "Teilaufgabe a)\n",
    "\n",
    "1. sucht nach dem ersten \"gt\"\n",
    "2. sucht jetzt \"ag\" hinter der gefundenen Position:  Jede Kombination von dem ersten \"gt\" und einem nachfolgenden \"ag\" mit mindestens 100 Nukleotiden Abstand kann ein Intron sein\n",
    "3. Speichert diese Introns in einer Liste ab\n",
    "4. Jetzt sucht ihr nach dem nächsten \"gt\" und wiederholt Schritte 2 bis 4 bis kein weiteres \"gt\" mehr gefunden wird\n",
    "\n",
    "Teilaufgabe b)\n",
    "\n",
    "Wie a), aber ihr prüft, ob eure gefundenen Introns \"RA\" enthalten (mit find(\"aa\") und find(\"ga\") bzw. mit re.search().\n",
    "\n",
    "Teilaufgabe c)\n",
    "\n",
    "Wie b), aber ihr prüft zusätzlich, ob eure gefundenen Introns viele \"c\" oder \"t\" enthalten stromaufwärts vom \"ag\" (siehe Consensus-Sequenz auf Folie 8 der Vorlesung \"Introns\").\n",
    "\n",
    "\n",
    "IUPAC-Code für Nukleotide:\n",
    "\n",
    "\n",
    "![grafik.png](attachment:2cd349c9-6c1d-4d50-9638-27c523dffa3b.png)"
   ]
  },
  {
   "cell_type": "markdown",
   "id": "9d7a43ab-40e0-472a-9cc8-8caf1f8434aa",
   "metadata": {},
   "source": [
    "### 2. Intronausgabe\n",
    "Schreiben Sie eine Funktion `intron_table` zur Darstellung der Ergebnisse aus Aufgabe 1.\n",
    "\n",
    "So soll es dann aussehen (Zahlen rechtsbündig, Sequenzen rechtsbündig):\n",
    "~~~text\n",
    "Anfang | Ende | Intronsequenz (erste 30 nt)\n",
    "    54 |  250 | GTAGCCGTACGGT…AG\n",
    "   350 |  472 | GTGTGCGATGCTGC…AG\n",
    "~~~\n",
    "\n",
    "Hinweise zur Lösung: siehe Vorlesung \"String-Methoden in Python\""
   ]
  },
  {
   "cell_type": "code",
   "execution_count": null,
   "id": "8f257627-a166-458a-8ef8-c30ee645729d",
   "metadata": {},
   "outputs": [],
   "source": [
    "def intron_table(intron_list):\n",
    "    format_str = \"{:>6} | {:>6} | {}\"\n",
    "    print(format_str.format(\"Anfang\",\n",
    "                            \"Ende\",\n",
    "                            \"Intronsequenz\"))\n",
    "    # hier ergänzt ihr…\n",
    "    return"
   ]
  },
  {
   "cell_type": "code",
   "execution_count": null,
   "id": "de96b178-da96-4c64-aba5-ec1cdca212da",
   "metadata": {},
   "outputs": [],
   "source": [
    "# Anwendung der Funktion"
   ]
  },
  {
   "cell_type": "markdown",
   "id": "c4a0f02d-fd1b-4bd1-812a-e40a2e49275d",
   "metadata": {},
   "source": [
    "## Hausaufgaben 06.12.2023"
   ]
  },
  {
   "cell_type": "markdown",
   "id": "1bbdf2e2-960a-4d97-9f0e-a9123dd51b65",
   "metadata": {},
   "source": [
    "### 1. Fasta-Einträge zählen\n",
    "\n",
    "Lesen Sie sich Folie 21 und 22 der Vorlesung \"Arbeiten mit Dateien in Python\" durch und erstellen Sie das Skript count_fasta.py und ermitteln Sie wie viele Fasta-Einträge die Dateien haben."
   ]
  },
  {
   "cell_type": "markdown",
   "id": "5df8cdbc-81c7-45e3-808b-8aa19dfa12b3",
   "metadata": {},
   "source": [
    "### 2. Fasta-Einträge auswerten\n",
    "\n",
    "Vervollständigen Sie das Skript „fastaliste.py“ (im Ordner „Übungen/Python/Skripte“). Hinweise dazu stehen im Skript."
   ]
  },
  {
   "attachments": {
    "24e714cf-9ff3-4f64-9b07-5d75d6b8f4b3.png": {
     "image/png": "[encoded data removed]"
    }
   },
   "cell_type": "markdown",
   "id": "04008beb-5585-4768-8003-1bf762af874c",
   "metadata": {},
   "source": [
    "### 3. Auswertung in Datei speichern\n",
    "\n",
    "Ändern Sie ihr Programm (aus der 2. Aufgabe)  als „fastaliste2.py“ so, dass die gelesenen Werte für Name und Länge in eine Text-Datei \"tabelle.txt\" gespeichert werden, so soll das dann aussehen:\n",
    "\n",
    "![grafik.png](attachment:24e714cf-9ff3-4f64-9b07-5d75d6b8f4b3.png)\n",
    "Und so weiter…\n",
    "\n",
    "**Hinweise**\n",
    "- Dazu Datei zum Schreiben öffnen ('w' wie write):\n",
    "   \n",
    "`ausgabedatei = open ('tabelle.txt', 'w')`\n",
    "- Schreiben der Liste, direkt in der while-Schleife einfügen:\n",
    "  \n",
    "`ausgabedatei.write(name + ',')`\n",
    "\n",
    "`ausgabedatei.write(laenge +'\\n')`\n",
    "\n",
    "- Schließen der Datei (wichtig!):\n",
    "  \n",
    "`ausgabedatei.close()`"
   ]
  },
  {
   "attachments": {},
   "cell_type": "markdown",
   "id": "14cf9a1b-5ba5-4b6e-975e-b096b25df6cd",
   "metadata": {},
   "source": [
    "### 4. R-Skript\n",
    "\n",
    "Schreiben Sie ein kleines R-Skript, dass die in Aufgabe 3 erzeugte Datei einliest und ein Histogramm der Sequenzlängen erzeugt!\n",
    "- Einlesen mit `read.csv(dateiname, header=FALSE)`\n",
    "- Histogramm erzeugen mit `hist()`   (Spalte 2 auswählen)\n",
    "- Beschriften Sie die x-Achse sinnvoll\n",
    "\n",
    "Der Befehl in folgenden Code-Zellen müssen Sie ausführen, damit Sie R-Skripte hier in Juypter gemeinsam mit Python ausführen können (`%load_ext rpy2.ipython`).\n",
    "Wenn eine Zelle mit `%%R` beginnt, können sie darin R-Skripte schreiben:"
   ]
  },
  {
   "cell_type": "code",
   "execution_count": null,
   "id": "4dacfcea-3ba6-443c-b515-2810703380d3",
   "metadata": {},
   "outputs": [],
   "source": [
    "%load_ext rpy2.ipython"
   ]
  },
  {
   "cell_type": "code",
   "execution_count": null,
   "id": "44beb153-a57d-4b62-b098-ca0046b2c766",
   "metadata": {},
   "outputs": [],
   "source": [
    "%%R\n",
    "# hier kann jetzt ihr R-Code stehen!\n",
    "dateiname = 'tabelle.txt'"
   ]
  },
  {
   "cell_type": "markdown",
   "id": "80b98acf-12df-478c-b227-d030c4dff7cb",
   "metadata": {},
   "source": [
    "## Hausaufgaben 18.01.2024"
   ]
  },
  {
   "cell_type": "markdown",
   "id": "629972ce-e77f-4212-8767-4b89fdada5ac",
   "metadata": {},
   "source": [
    "**Vorlesung \"Arbeiten mit Dateien in Python\"**\n",
    "\n",
    "(Lösen Sie die folgenden Aufgaben 1 bis 5 ohne das Biopython-Paket zu\n",
    "benutzen!)\n",
    "\n",
    "### 1. Genbank-Einträge zählen\n",
    "\n",
    "Ermitteln Sie wie viele Genbank-Einträge die folgenden\n",
    "Genbank-Dateien haben (im Übungsordner):\n",
    "* classII-basdio.gb\n",
    "* cor6_6.gb\n",
    "* ls_orchid.gb\n",
    "* NC_000913.gbk\n",
    "* NC_005816.gb\n",
    "\n",
    "Erstellen Sie dazu eine Funktion `count_genbank_entries` und formulieren Sie Ihre Antwort\n",
    "(siehe Folie 25 der Vorlesung)."
   ]
  },
  {
   "cell_type": "markdown",
   "id": "86d8e9d9-386e-43b1-9d1a-68df7c9a0c79",
   "metadata": {},
   "source": [
    "### 2. Genbank-Einträge auswerten\n",
    "\n",
    "Ermitteln Sie wie viele Proteine (definiert als „CDS“, coding determining sequences) kodiert werden:\n",
    "* Auf dem kleinsten Plasmid des Pest-Erregers *Yersinia pestis* (NC_005816.gb)\n",
    "* Im chromosomalen Genom von *E. coli* K12\n",
    "(NC_000913.gbk)\n",
    "\n",
    "Erstellen Sie dazu eine Funktion `count_genbank_cds` und formulieren Sie Ihre Antwort.\n",
    "(Achten Sie darauf, dass die Zeichenkette \"CDS\" nicht immer ausreicht, um die Proteine zu zählen, siehe Folie 27 der Vorlesung)."
   ]
  },
  {
   "cell_type": "markdown",
   "id": "84a70f23-8fea-4a34-98dc-5fcaa1ea51c2",
   "metadata": {},
   "source": [
    "### 3. Virusgenome\n",
    "\n",
    " Das Referenzgenom des SARS-cov2 finden Sie unter der Accession number [NC_045512.2](https://www.ncbi.nlm.nih.gov/nuccore/NC_045512.2) (Wuhan-Stamm). Das Genom eines anderen Stammes von SARS-cov2 (USA-Stamm) finden Sie unter der Accession number [MN985325.1](https://www.ncbi.nlm.nih.gov/nuccore/MN985325.1). Laden Sie sich die Fasta-Sequenzen dieser Genome und speichern Sie sich diese in ihrem Ordner des Jupyter-Notebooks."
   ]
  },
  {
   "cell_type": "markdown",
   "id": "c5b14390-e68b-4fa6-adeb-9d406359c461",
   "metadata": {},
   "source": [
    "#### a) Sequenz auslesen\n",
    "Mithilfe von Python: Öffnen Sie die Dateien und lesen Sie die Sequenz aus. Entfernen Sie alle Leerzeichen und Zeilenumbrüche (*whitespaces*) in der Sequenz (siehe Folie 28 der Vorlesung)"
   ]
  },
  {
   "cell_type": "code",
   "execution_count": null,
   "id": "95ac6e12-8d5f-4f63-9da2-3be7b1b173c0",
   "metadata": {},
   "outputs": [],
   "source": [
    "# Code hier einfügen"
   ]
  },
  {
   "cell_type": "markdown",
   "id": "c167a927-b9da-4b0b-94b0-acc9c5606cdb",
   "metadata": {},
   "source": [
    "#### b) Sequenz auswerten\n",
    "Beantworten Sie folgende Fragen (nutzen Sie Ihre bereits erstellten Funktionen aus der Hausaufgabe vom 01.11.2023):\n",
    "* Genomgröße beider Stämme?\n",
    "* GC-Gehalt der Stämme?\n",
    "* Kommen Nicht-Standardnukleotide vor?"
   ]
  },
  {
   "cell_type": "code",
   "execution_count": null,
   "id": "db95a284-5e3a-4d3d-a1be-f1f1a6fac497",
   "metadata": {},
   "outputs": [],
   "source": [
    "# Code hier einfügen"
   ]
  },
  {
   "cell_type": "markdown",
   "id": "7c08ef5c-ef33-4e10-aae1-b0fcb233ac94",
   "metadata": {},
   "source": [
    "### 4. Vergleich Virusgenome\n",
    "Vergleichen Sie die beiden SARS-cov2-Genome (NC_045512.2\n",
    "und (MN985325.1) miteinander. An welchen Stellen im Genom unterscheiden sich beide Stämme (Indices), nennen Sie die verschiedenen Basen.\n",
    "\n",
    "Erstellen Sie dazu eine Funktion und formulieren Sie Ihre\n",
    "Antwort.\n",
    "\n",
    "* Tipp1: Nutzt die eingebaute Python-Funktion `enumerate()`, um die Position innerhalb der Sequenz zu ermitteln.\n",
    "* Tipp2: Vergleicht nur bis zum Ende der kürzeren Sequenz.\n",
    "\n",
    "(siehe Folie 29 der Vorlesung)."
   ]
  },
  {
   "cell_type": "code",
   "execution_count": null,
   "id": "2367136a-4aa6-442b-8f39-eeb7ed5a9fe8",
   "metadata": {},
   "outputs": [],
   "source": [
    "# Code hier einfügen"
   ]
  },
  {
   "cell_type": "markdown",
   "id": "488286b7-9163-41a2-bd67-d7f89be4e8cb",
   "metadata": {},
   "source": [
    "### 5. Wörterbücher\n",
    "Wörterbücher (englisch *dictionary*) sind eine feine Sache in Python. Hier eine kurze Wiederholung: Wörterbücher sind eine Sammlung von Schlüsselwort-Wert-Paaren (key-value):\n",
    "~~~python\n",
    "#es wird ein leeres Wörterbuch namens \"personen\" angelegt:\n",
    "personen = {}\n",
    "#Wörterbuch vorbelegt:\n",
    "personen = {'Marek':'Wissenschaftler','Tom':'Rennfahrer'}\n",
    "#Zugriff über das Schlüsselwort (key) mit eckigen Klammern\n",
    "print(personen['Tom'])\n",
    "#so können neue keys angelegt oder Werte verändert werden\n",
    "personen['Maja'] = 'Astronautin'\n",
    "personen['Marek'] = \"Taxifahrer\"\n",
    "#dasselbe geht auch über die update-Funktion\n",
    "personen.update({'Maja':'Präsidentin', 'Marek':'Biologe'})\n",
    "#Abfrage, ob etwas im Wörterbuch ist:\n",
    "if 'Tom' in personen: …\n",
    "#Abfrage, ob etwas im Wörterbuch ist, falls nicht, wird ein\n",
    "Standardwert zurückgegeben:\n",
    "print(personen.get('Tom', 'Person nicht vorhanden'))\n",
    "#jeden eintrag auslesen\n",
    "for eintrag in personen: …\n",
    "~~~"
   ]
  },
  {
   "cell_type": "markdown",
   "id": "d2cf7d73-03fd-4979-a425-f6d933e34d14",
   "metadata": {},
   "source": [
    "Ihre Aufgabe: Schreiben Sie eine Funktion, die von einer DNA-Sequenz die entsprechende Aminosäuresequenz erzeugt. Passen Sie dazu die bereits vorhandene Funktion `translate()` an\n",
    "(ohne das Biopython-Paket zu verwenden!):"
   ]
  },
  {
   "cell_type": "code",
   "execution_count": null,
   "id": "826b28e0-63d0-4947-87e2-2b874be318e2",
   "metadata": {},
   "outputs": [],
   "source": [
    "def translate(dnasequenz, position=0):\n",
    "    '''Funktion übersetzt eine gegebene DNA-Sequenz im genetischen Standard-\n",
    "    Code ab einer vorgegebenen Position in eine Aminosäurensequenz'''\n",
    "\n",
    "    gencode = {\n",
    "    'ATA':'I', 'ATC':'I', 'ATT':'I', 'ATG':'M',\n",
    "    'ACA':'T', 'ACC':'T', 'ACG':'T', 'ACT':'T',\n",
    "    'AAC':'N', 'AAT':'N', 'AAA':'K', 'AAG':'K',\n",
    "    'AGC':'S', 'AGT':'S', 'AGA':'R', 'AGG':'R',\n",
    "    'CTA':'L', 'CTC':'L', 'CTG':'L', 'CTT':'L',\n",
    "    'CCA':'P', 'CCC':'P', 'CCG':'P', 'CCT':'P',\n",
    "    'CAC':'H', 'CAT':'H', 'CAA':'Q', 'CAG':'Q',\n",
    "    'CGA':'R', 'CGC':'R', 'CGG':'R', 'CGT':'R',\n",
    "    'GTA':'V', 'GTC':'V', 'GTG':'V', 'GTT':'V',\n",
    "    'GCA':'A', 'GCC':'A', 'GCG':'A', 'GCT':'A',\n",
    "    'GAC':'D', 'GAT':'D', 'GAA':'E', 'GAG':'E',\n",
    "    'GGA':'G', 'GGC':'G', 'GGG':'G', 'GGT':'G',\n",
    "    'TCA':'S', 'TCC':'S', 'TCG':'S', 'TCT':'S',\n",
    "    'TTC':'F', 'TTT':'F', 'TTA':'L', 'TTG':'L',\n",
    "    'TAC':'Y', 'TAT':'Y', 'TAA':'*', 'TAG':'*',\n",
    "    'TGC':'C', 'TGT':'C', 'TGA':'*', 'TGG':'W'}\n",
    "\n",
    "\n",
    "    '''Nutzt dieses Wörterbuch, um eine Funktion zu schreiben, die\n",
    "    eine DNA-Sequenz in ein Protein (richtiger in eine Aminosäuren-\n",
    "    sequenz) übersetzt.\n",
    "\n",
    "    Dazu müsst ihr folgendes machen:\n",
    "\n",
    "    Die DNA-Sequenz in Codons aufteilen.\n",
    "    Im Wörterbuch für das Codon die Aminosäure nachschlagen.\n",
    "    Und schließlich die Aminosäure abspeichern im String proteinsequenz.\n",
    "\n",
    "    Was passiert, wenn eure DNA-Sequenz nicht durch 3 teilbar ist?\n",
    "    '''\n",
    "\n",
    "    proteinsequenz =\"\"\n",
    "    dnasequenz = dnasequenz.upper()  # sicherstellen, dass alles GROSS geschrieben ist\n",
    "    \n",
    "    return proteinsequenz"
   ]
  },
  {
   "cell_type": "markdown",
   "id": "23e41029-f7a2-4c95-82da-4953f284c8dd",
   "metadata": {},
   "source": [
    "Testen Sie Ihre Funktion mit der folgenden DNA-Sequenz:\n",
    "~~~\n",
    "GCCCACGCCCCCCCCTACAACGAGTGGTACGAGGCCAGG\n",
    "~~~"
   ]
  },
  {
   "cell_type": "code",
   "execution_count": null,
   "id": "0b0517f1-e4eb-409c-a5c5-e78fd463bfd8",
   "metadata": {},
   "outputs": [],
   "source": [
    "dna = 'GCCCACGCCCCCCCCTACAACGAGTGGTACGAGGCCAGG'\n",
    "print(translate(dna))"
   ]
  },
  {
   "cell_type": "markdown",
   "id": "8be8d243-92d7-4e59-adbb-f7964b97ffb1",
   "metadata": {},
   "source": [
    "*Antwortsatz:* Die Aminosäurensequenz lautet ..."
   ]
  },
  {
   "cell_type": "markdown",
   "id": "6d319a86-7930-493c-9be1-e5cce215146e",
   "metadata": {},
   "source": [
    "---\n",
    "**Vorlesung \"Arbeiten mit Biopython\"**"
   ]
  },
  {
   "cell_type": "markdown",
   "id": "8644eb85-f88a-4d8b-8c44-508dc8dfdd17",
   "metadata": {},
   "source": [
    "### 6. BLAST-Suche ausführen mit Biopython"
   ]
  },
  {
   "cell_type": "markdown",
   "id": "f0798210-2292-4e76-8938-be5b102b6802",
   "metadata": {},
   "source": [
    "<div class=\"alert alert-block alert-info\">\n",
    "<b>Hinweis:</b> Installieren Sie zunächst das Biopython-Paket in Ihrer Juypter-Umgebung. Dazu führen Sie folgendes in einer Code-Zelle aus:<br>\n",
    "    <b>!pip install biopython</b>\n",
    "</div>"
   ]
  },
  {
   "cell_type": "code",
   "execution_count": null,
   "id": "e9d6317f-d1b4-4b92-ba67-82f8556d7a49",
   "metadata": {},
   "outputs": [],
   "source": [
    "!pip install biopython"
   ]
  },
  {
   "cell_type": "markdown",
   "id": "d541f4fe-940a-45ed-96ff-3553dc90b195",
   "metadata": {},
   "source": [
    "Führen Sie eine BLAST-Suche (Programm blastp) mit den Proteinsequenzen in der Datei \"protein-queries.fas\" in der Datenbank \"PDB\" mittels Biopython durch. Speichern Sie die Ergebnisse als XML-Datei (Siehe Folie 37 der Vorlesung). Zeigen Sie Ihr Skript dazu."
   ]
  },
  {
   "cell_type": "code",
   "execution_count": null,
   "id": "2423765f-e602-430c-a233-463e06fbc701",
   "metadata": {},
   "outputs": [],
   "source": [
    "# Code here"
   ]
  },
  {
   "cell_type": "markdown",
   "id": "4e7beb0d-e2be-44bb-8326-cd7126de9724",
   "metadata": {},
   "source": [
    "### 7. BLAST-Suche auswerten mit Biopython\n",
    "Ihre Aufgabe: Schreiben Sie eine Funktion, die mithilfe des Biopython-Pakets aus einer abgeschlossenen BLAST-Suche (als XML-Datei vorliegend) die Antwort-Einträge herausfiltert, die das Motiv `PCP` in ihrer Proteinsequenz enthalten (sucht also in `hsp.sbjct` nach diesem Motiv; siehe Folie 42 der Vorlesung)."
   ]
  },
  {
   "cell_type": "code",
   "execution_count": null,
   "id": "06a45faf-189e-4ae8-ab64-2cea5fd1b9a9",
   "metadata": {},
   "outputs": [],
   "source": [
    "# Code here"
   ]
  }
 ],
 "metadata": {
  "kernelspec": {
   "display_name": "Python 3 (ipykernel)",
   "language": "python",
   "name": "python3"
  },
  "language_info": {
   "codemirror_mode": {
    "name": "ipython",
    "version": 3
   },
   "file_extension": ".py",
   "mimetype": "text/x-python",
   "name": "python",
   "nbconvert_exporter": "python",
   "pygments_lexer": "ipython3",
   "version": "3.11.5"
  }
 },
 "nbformat": 4,
 "nbformat_minor": 5
}
